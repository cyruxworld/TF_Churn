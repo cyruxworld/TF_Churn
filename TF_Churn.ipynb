{
  "nbformat": 4,
  "nbformat_minor": 0,
  "metadata": {
    "colab": {
      "provenance": []
    },
    "kernelspec": {
      "name": "python3",
      "display_name": "Python 3"
    },
    "language_info": {
      "name": "python"
    }
  },
  "cells": [
    {
      "cell_type": "markdown",
      "source": [
        "<h1> Summary </h1>\n",
        "This is a simple demo of a basic DNN model to classify a customer as going to Churn or not. Churn means to leave our bussiness as a customer whether or not they return later. This is an example of a simple logistic regression DNN with 3 layers (RELU->RELU->Sigmoid). I have heavily commented this notebook to explain almost every line of code as it's written. With the following code I was able to reach an accuracy of 78.6%"
      ],
      "metadata": {
        "id": "4aaptibps7cW"
      }
    },
    {
      "cell_type": "markdown",
      "source": [
        "<h1>0. Import Data</h1>"
      ],
      "metadata": {
        "id": "049xP1QSRi1K"
      }
    },
    {
      "cell_type": "code",
      "execution_count": 1,
      "metadata": {
        "id": "y_VG-XUTRZ6C"
      },
      "outputs": [],
      "source": [
        "import pandas as pd\n",
        "from sklearn.model_selection import train_test_split"
      ]
    },
    {
      "cell_type": "markdown",
      "source": [
        "*   read in the Churn.csv data\n",
        "*   download the csv from https://github.com/nicknochnack/Tensorflow-in-10-Minutes/blob/main/Churn.csv\n",
        "*   copy or save it to the root folder of this project\n",
        "*   you can also use your own data as long as it has at least 1 feature column and a label column named Churn"
      ],
      "metadata": {
        "id": "KVfOx2OCUBcq"
      }
    },
    {
      "cell_type": "code",
      "source": [
        "df = pd.read_csv('Churn.csv')\n",
        "df.head()"
      ],
      "metadata": {
        "id": "ZYDBP_uGUESE"
      },
      "execution_count": null,
      "outputs": []
    },
    {
      "cell_type": "markdown",
      "source": [
        "\n",
        "*   Drop the CustomerID and Churn columns from the features dataframe.\n",
        "*   The Churn column becomes the label.\n",
        "*   Use a lambda to map the string \"Yes\" to 1 and other values ie(\"No\") to 0"
      ],
      "metadata": {
        "id": "EDjL-eOoUZMR"
      }
    },
    {
      "cell_type": "code",
      "source": [
        "x = pd.get_dummies(df.drop(['Churn','Customer ID'],axis=1))\n",
        "y = df['Churn'].apply(lambda x: 1 if x == 'Yes' else 0)\n"
      ],
      "metadata": {
        "id": "qQERSVWHVPZF"
      },
      "execution_count": 7,
      "outputs": []
    },
    {
      "cell_type": "markdown",
      "source": [
        "*   Split the data into training and test sets"
      ],
      "metadata": {
        "id": "PcvdluhGV_Z5"
      }
    },
    {
      "cell_type": "code",
      "source": [
        "x_train, x_test, y_train, y_test = train_test_split(x,y, test_size=0.2)"
      ],
      "metadata": {
        "id": "x6xP8jDVWG4c"
      },
      "execution_count": 8,
      "outputs": []
    },
    {
      "cell_type": "code",
      "source": [
        "x_train.head()"
      ],
      "metadata": {
        "id": "F2Hv4CUHWU9E"
      },
      "execution_count": null,
      "outputs": []
    },
    {
      "cell_type": "code",
      "source": [
        "y_train.head()"
      ],
      "metadata": {
        "id": "6N3lOh_IWXFw"
      },
      "execution_count": null,
      "outputs": []
    },
    {
      "cell_type": "markdown",
      "source": [
        "<h1>1. Import Dependancies</h1>"
      ],
      "metadata": {
        "id": "FmYS3Qa3R746"
      }
    },
    {
      "cell_type": "markdown",
      "source": [
        "*   Sequential is the basic model that has 1 or more layers\n",
        "*   load model lets us load a saved model\n",
        "*   Dense layers are fully connected layers inside the network we build\n",
        "*   Accuracy is a metric that is (TP+TN)/(TP+TN+FN+FP)"
      ],
      "metadata": {
        "id": "7_mkQ3opXi-L"
      }
    },
    {
      "cell_type": "code",
      "source": [
        "from tensorflow.keras.models import Sequential, load_model\n",
        "from tensorflow.keras.layers import  Dense\n",
        "from sklearn.metrics import accuracy_score"
      ],
      "metadata": {
        "id": "PlkzNrFBWzPy"
      },
      "execution_count": 11,
      "outputs": []
    },
    {
      "cell_type": "markdown",
      "source": [
        "<h1>2. Build and Compile Model</h1>"
      ],
      "metadata": {
        "id": "yrTuGVDRSE6f"
      }
    },
    {
      "cell_type": "markdown",
      "source": [
        "*   create the model\n",
        "*   add the first and second layers with a relu activation function\n",
        "  *   relu is essentially y = max(0,x) so anything before x = 0 becomes 0 <img src=\"https://upload.wikimedia.org/wikipedia/commons/thumb/4/42/ReLU_and_GELU.svg/1200px-ReLU_and_GELU.svg.png\"> image from https://en.wikipedia.org/wiki/Rectifier_%28neural_networks%29\n",
        "*   add the final layer with a sigmoid activation function\n",
        "  *   sigmoid takes continous values and puts them into the range of 0 -> 1 making them probablities\n",
        "  <img src=\"https://upload.wikimedia.org/wikipedia/commons/thumb/8/88/Logistic-curve.svg/1200px-Logistic-curve.svg.png\"> image from https://en.wikipedia.org/wiki/Sigmoid_function"
      ],
      "metadata": {
        "id": "-jynCCAoZepo"
      }
    },
    {
      "cell_type": "code",
      "source": [
        "model = Sequential()\n",
        "model.add(Dense(units=32, activation='relu', input_dim=len(x_train.columns)))\n",
        "model.add(Dense(units=64, activation='relu'))\n",
        "model.add(Dense(units=1,activation=\"sigmoid\"))"
      ],
      "metadata": {
        "id": "xst2sDLZY604"
      },
      "execution_count": 12,
      "outputs": []
    },
    {
      "cell_type": "markdown",
      "source": [
        "*   Compile the model using binary cross_etropy ass a loss function\n",
        "  *   binary cross entropy: -1/n*Sum{1->n}(Yi(log(Y'i))+(1-Yi)(log(1-Y'i))\n",
        "*   use accuracy metrics to evaluate how well model performs"
      ],
      "metadata": {
        "id": "yKdf_iODl6U4"
      }
    },
    {
      "cell_type": "code",
      "source": [
        "model.compile(loss='binary_crossentropy', optimizer='sgd', metrics='accuracy')"
      ],
      "metadata": {
        "id": "S_b5jXfBnWAq"
      },
      "execution_count": 13,
      "outputs": []
    },
    {
      "cell_type": "markdown",
      "source": [
        "<h1>3. Fit Predict and Evaluate</h1>"
      ],
      "metadata": {
        "id": "1yP6m_P2SJud"
      }
    },
    {
      "cell_type": "markdown",
      "source": [
        "*   we pass in our training features x and our labels y\n",
        "*   we then set hyperparameters Epochs and batch size\n",
        "  *  epochs are how long we train for(one forward pass and one backward pass of the training examples)\n",
        "  *  batch size how many examples to use at once"
      ],
      "metadata": {
        "id": "FpJnM1VjoJPf"
      }
    },
    {
      "cell_type": "code",
      "source": [
        "EPOCHS = 200\n",
        "BATCH_SIZE = 32\n",
        "model.fit(x_train,y_train,epochs=EPOCHS, batch_size=BATCH_SIZE)"
      ],
      "metadata": {
        "id": "MeICQl_onzjC"
      },
      "execution_count": null,
      "outputs": []
    },
    {
      "cell_type": "markdown",
      "source": [
        "*   predict over our test set and set the value to 0 or 1 based on if it is over or bellow our threshold value"
      ],
      "metadata": {
        "id": "TXsBxvZ-qJPh"
      }
    },
    {
      "cell_type": "code",
      "source": [
        "Threshold = 0.5\n",
        "test_predictions = model.predict(x_test)\n",
        "test_predictions = [0 if value < Threshold else 1 for value in test_predictions]"
      ],
      "metadata": {
        "colab": {
          "base_uri": "https://localhost:8080/"
        },
        "id": "f7GQ7A_HqTXz",
        "outputId": "342d66c8-1288-4297-9d86-9a39176aee45"
      },
      "execution_count": 15,
      "outputs": [
        {
          "output_type": "stream",
          "name": "stdout",
          "text": [
            "45/45 [==============================] - 0s 1ms/step\n"
          ]
        }
      ]
    },
    {
      "cell_type": "markdown",
      "source": [
        "*   calcuate the accuracy score of the predictions"
      ],
      "metadata": {
        "id": "vQr-JSjprHxT"
      }
    },
    {
      "cell_type": "code",
      "source": [
        "accuracy_score(y_test,test_predictions)"
      ],
      "metadata": {
        "colab": {
          "base_uri": "https://localhost:8080/"
        },
        "id": "MBGHvjdtrMQe",
        "outputId": "22cc34ae-c536-4df9-ff4d-f7995fee3040"
      },
      "execution_count": 16,
      "outputs": [
        {
          "output_type": "execute_result",
          "data": {
            "text/plain": [
              "0.7863733144073811"
            ]
          },
          "metadata": {},
          "execution_count": 16
        }
      ]
    },
    {
      "cell_type": "markdown",
      "source": [
        "<h1>4. Saving and Reloading</h1>"
      ],
      "metadata": {
        "id": "9e6xxAGRSQSO"
      }
    },
    {
      "cell_type": "markdown",
      "source": [
        "*   save model to folder named churn_model"
      ],
      "metadata": {
        "id": "OaTeddrOrvVK"
      }
    },
    {
      "cell_type": "code",
      "source": [
        "model.save('churn_model')"
      ],
      "metadata": {
        "id": "nrLkn0NgrjLF"
      },
      "execution_count": null,
      "outputs": []
    },
    {
      "cell_type": "markdown",
      "source": [
        "*   delete and reload model from disk"
      ],
      "metadata": {
        "id": "Qu_3h2ZurzZE"
      }
    },
    {
      "cell_type": "code",
      "source": [
        "del model\n",
        "model = load_model('churn_model')"
      ],
      "metadata": {
        "id": "Eqq9n2n1r2mf"
      },
      "execution_count": 19,
      "outputs": []
    }
  ]
}